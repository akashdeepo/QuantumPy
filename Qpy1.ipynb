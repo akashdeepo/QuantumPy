{
 "cells": [
  {
   "cell_type": "code",
   "execution_count": 327,
   "metadata": {},
   "outputs": [],
   "source": [
    "# Visualize Quantum gates on Bloch's Sphere\n",
    "#example the X-gate represents the Pauli-X matrix X=[[0,1],[1,0]]"
   ]
  },
  {
   "cell_type": "code",
   "execution_count": 328,
   "metadata": {},
   "outputs": [],
   "source": [
    "#install qiskit- new virtual environment may be needed\n",
    "#pip install qiskit"
   ]
  },
  {
   "cell_type": "code",
   "execution_count": 329,
   "metadata": {},
   "outputs": [],
   "source": [
    "#import libraries\n",
    "import tkinter\n",
    "from tkinter import LEFT, END, DISABLED, NORMAL\n",
    "from tkinter import *\n",
    "import warnings\n",
    "import numpy as np\n",
    "import qiskit\n",
    "from qiskit import QuantumCircuit\n",
    "from qiskit.visualization import visualize_transition\n",
    "\n",
    "warnings.filterwarnings('ignore')\n"
   ]
  },
  {
   "cell_type": "code",
   "execution_count": 330,
   "metadata": {},
   "outputs": [
    {
     "data": {
      "text/plain": [
       "''"
      ]
     },
     "execution_count": 330,
     "metadata": {},
     "output_type": "execute_result"
    }
   ],
   "source": [
    "#define the UI window\n",
    "root =tkinter.Tk()\n",
    "root.title('QuantumPy')\n",
    "\n",
    "#set the icon\n",
    "#root.iconbitmap(default='Q.ico')\n",
    "root.geometry('398x425')\n",
    "#blocking the resize\n",
    "root.resizable(0,0)\n",
    "\n"
   ]
  },
  {
   "cell_type": "code",
   "execution_count": 331,
   "metadata": {},
   "outputs": [],
   "source": [
    "#define colors and styling\n",
    "background = '#d43410'\n",
    "buttons = '#FFFFFF'\n",
    "special_buttons = '#d43415'\n",
    "button_font = ('Times New Roman',18)\n",
    "display_font = ('Arial',32)"
   ]
  },
  {
   "cell_type": "code",
   "execution_count": 332,
   "metadata": {},
   "outputs": [],
   "source": [
    "# Initialise the Quantum Circuit\n",
    "# Note we cannot visualise measurments in the app--The state vector collapses into one of the basis vectors\n",
    "def initialize_circuit():\n",
    "    \"\"\"\n",
    "    Initializes the Quantum Circuit\n",
    "    \"\"\"\n",
    "    global circuit \n",
    "    circuit = QuantumCircuit(1)\n",
    "\n",
    "initialize_circuit()\n",
    "theta=0"
   ]
  },
  {
   "cell_type": "code",
   "execution_count": 333,
   "metadata": {},
   "outputs": [],
   "source": [
    "# Define Functions\n",
    "def display_gate(gate_input):\n",
    "    \"\"\"\n",
    "    Adds a gate notation to track operations in the display\n",
    "    Max # of operations = 10\n",
    "    Disables all buttons \n",
    "    \"\"\"\n",
    "    #Insert the defined gate\n",
    "    display.insert(END,gate_input)\n",
    "\n",
    "    #Check if # has reached 10 and disable\n",
    "    input_gates = display.get()\n",
    "    num_gates_pressed = len(input_gates)\n",
    "    list_input_gates = list(input_gates)\n",
    "    search_word=[\"R\",\"D\"]\n",
    "    count_double_valued_gates = [list_input_gates.count(i) for i in search_word]\n",
    "    num_gates_pressed-= sum(count_double_valued_gates)\n",
    "    if num_gates_pressed==10:\n",
    "        gates = [x_gate, y_gate, z_gate, Rx_gate, Ry_gate, Rz_gate, s_gate, sd_gate, t_gate, td_gate, hadamard_gate]\n",
    "        for gate in gates:\n",
    "            gate.config(state=DISABLED)\n",
    "\n"
   ]
  },
  {
   "cell_type": "code",
   "execution_count": 334,
   "metadata": {},
   "outputs": [],
   "source": [
    "# Define the clear button\n",
    "def clear(circuit):\n",
    "    \"\"\"\n",
    "    a.Clears the display\n",
    "    b.reset for fresch calculations\n",
    "    c.check if # reached 10 and reenable the buttons\n",
    "    \"\"\"\n",
    "    #clear display\n",
    "    display.delete(0, END)\n",
    "\n",
    "    #reset the circuit back to |0> (zero ket)\n",
    "    initialize_circuit()\n",
    "\n",
    "    #check if buttons are disable -if yes enable them---trick--if x_gate is disable all buttons will be disable by nature\n",
    "    if x_gate['state']==DISABLED:\n",
    "        gates = [x_gate, y_gate, z_gate, Rx_gate, Ry_gate, Rz_gate, s_gate, sd_gate, t_gate, td_gate, hadamard_gate]\n",
    "        for gate in gates:\n",
    "            gate.config(state=NORMAL)"
   ]
  },
  {
   "cell_type": "code",
   "execution_count": 335,
   "metadata": {},
   "outputs": [],
   "source": [
    "#define visualize circuit fnction\n",
    "def visualize_circuit(circuit,window):\n",
    "    \"\"\"\n",
    "    visualizes the single cubit rotations corresponding to applied gates in separate window\n",
    "    handles visualisation errors\n",
    "    \"\"\"\n",
    "\n",
    "    try:\n",
    "        visualize_transition(circuit=circuit)\n",
    "    except qiskit.visualization.exceptions.VisualizationError:\n",
    "        window.destroy()\n",
    "        "
   ]
  },
  {
   "cell_type": "code",
   "execution_count": 336,
   "metadata": {},
   "outputs": [],
   "source": [
    "#defining variable theta entered by user\n",
    "def change_theta(num,window,circuit,key):\n",
    "    \"\"\"\n",
    "    Changes te global variable + change back theta to 0 and closes the window\n",
    "\n",
    "    \"\"\"\n",
    "    global theta\n",
    "    theta = num* np.pi\n",
    "    if key=='x':\n",
    "        circuit.rx(theta,0)\n",
    "        theta=0\n",
    "    elif key=='y':\n",
    "        circuit.ry(theta,0)\n",
    "        theta=0\n",
    "    else:\n",
    "        circuit.rz(theta,0)\n",
    "        theta=0\n",
    "    window.destroy()"
   ]
  },
  {
   "cell_type": "code",
   "execution_count": 337,
   "metadata": {},
   "outputs": [],
   "source": [
    "# Define user Input\n",
    "def user_input(circuit,key):\n",
    "    \"\"\"\n",
    "    Take the rotation angle input \n",
    "    for parameterized rotation gates(Rx,Ry,Rz)\n",
    "    \"\"\"\n",
    "\n",
    "    #initialize and define properties of window\n",
    "    get_input = tkinter.Tk()\n",
    "    get_input.title('Select Theta')\n",
    "    get_input.geometry('360x160')\n",
    "    get_input.resizable(0,0)\n",
    "\n",
    "    val1 = tkinter.Button(get_input, height=2, width=10, bg=buttons, font=('Arial',10), text='Pi/4', command=lambda:change_theta(0.25, get_input, circuit, key))\n",
    "    val1.grid(row=0, column=0), key\n",
    "\n",
    "    val2 = tkinter.Button(get_input, height=2, width=10, bg=buttons, font=('Arial',10), text='Pi/2', command=lambda:change_theta(0.50, get_input, circuit, key))\n",
    "    val2.grid(row=0, column=1)\n",
    "    \n",
    "    val3 = tkinter.Button(get_input, height=2, width=10, bg=buttons, font=('Arial',10), text='Pi', command=lambda:change_theta(1.0, get_input, circuit, key))\n",
    "    val3.grid(row=0, column=2)\n",
    "\n",
    "    val4 = tkinter.Button(get_input, height=2, width=10, bg=buttons, font=('Arial',10), text='2*Pi', command=lambda:change_theta(2.0, get_input, circuit, key))\n",
    "    val4.grid(row=0, column=3, stick='W')\n",
    "\n",
    "    nval1 = tkinter.Button(get_input, height=2, width=10, bg=buttons, font=('Arial',10), text='-Pi/4', command=lambda:change_theta(-0.25, get_input, circuit, key))\n",
    "    nval1.grid(row=1, column=0)\n",
    "\n",
    "    nval2 = tkinter.Button(get_input, height=2, width=10, bg=buttons, font=('Arial',10), text='-Pi/2', command=lambda:change_theta(-0.50, get_input, circuit, key))\n",
    "    nval2.grid(row=1, column=1)\n",
    "\n",
    "    nval3 = tkinter.Button(get_input, height=2, width=10, bg=buttons, font=('Arial',10), text='-Pi', command=lambda:change_theta(-1.0, get_input, circuit, key))\n",
    "    nval3.grid(row=1, column=2)\n",
    "\n",
    "    nval4 = tkinter.Button(get_input, height=2, width=10, bg=buttons, font=('Arial',10), text='-2Pi', command=lambda:change_theta(-2.0, get_input, circuit, key))\n",
    "    nval4.grid(row=1, column=3, sticky='W')\n",
    "\n",
    "    text_object = tkinter.Text(get_input, height=20, width=20, bg='#d43415')\n",
    "\n",
    "    note=\"\"\"\n",
    "    Select Value for theta\n",
    "    Range = [-2pi,2pi]\n",
    "    \"\"\"\n",
    "    text_object.grid(sticky='WE', columnspan=4)\n",
    "    text_object.insert(END,note)\n",
    "\n",
    "    get_input.insert(END,note)\n",
    "\n",
    "\n",
    "    \n"
   ]
  },
  {
   "cell_type": "code",
   "execution_count": 338,
   "metadata": {},
   "outputs": [],
   "source": [
    "#defining 'about' section\n",
    "def about():\n",
    "    \"\"\"\n",
    "    Display project info and button details\n",
    "    \"\"\"\n",
    "    info = tkinter.Tk()\n",
    "    info.title('About')\n",
    "    info.geometry('700x800')\n",
    "    info.resizable(0,0)\n",
    "\n",
    "    text = tkinter.Text(info, height=20, width=20)\n",
    "\n",
    "    # Creating the label\n",
    "    label = tkinter.Label(info, text= \"About Quantum Py\")\n",
    "    label.config(font =(\"Times\", 14))\n",
    "\n",
    "    text_to_display = \"\"\"\n",
    "    About: Visualizing effect of different Quantum Gates \n",
    "           for single Qubit Rotation on Bloch Sphere\n",
    "\n",
    "    Project by: Akash Deep\n",
    "    Keywords: Python, Tkinter, Qiskit\n",
    "    \n",
    "    Info about the gate buttons and associated Qiskit commands:\n",
    "\n",
    "    X  = flips the state of qubit-------------------------------- circuit.x()\n",
    "    Y  = rotates the state vector about Y-axis------------------- circuit.y()\n",
    "    Z  = flips the phase by PI radians--------------------------- circuit.z()\n",
    "    Rx = parameterized rotation about the X axis----------------- circuit.rx()\n",
    "    Ry = parameterized rotation about the Y axis----------------- circuit.ry()\n",
    "    Rz = parameterized rotation about the 2 axis----------------- circuit.rz()\n",
    "    S  = rotates the state vector about 2 axis by PI/2 radians--- circuit.s()\n",
    "    I  = rotates the state vector about 2 axis by PI/4 radians--- circuit.t()\n",
    "    Sd = rotates the state vector about 2 axis by -PI/2 radians-- circuit.sdg()\n",
    "    Td = rotates the state vector about 2 axis by -PI/4 radians-- circuit.tdg()\n",
    "    H  = creates the state of superposition---------------------- circuit.h()\n",
    "    \n",
    "    For Rx, Ry and Rz, \n",
    "    theta (rotation angle) allowed range in the app is [-2*PI, 2*PI]\n",
    "    \n",
    "    In case of a Visualization Error, the app closes automatically. \n",
    "    This indicates that vigualization of your circuit is not possible,\n",
    "    \n",
    "    Note: At a time, only ten operations can be visualized.\n",
    "   \n",
    "   \"\"\"\n",
    "\n",
    "\n",
    "    label.pack()\n",
    "    text.pack(fill='both',expand=True)\n",
    "\n",
    "    #inserting text\n",
    "    text.insert(END,text_to_display)\n",
    "\n",
    "    root.mainloop()\n"
   ]
  },
  {
   "cell_type": "code",
   "execution_count": null,
   "metadata": {},
   "outputs": [],
   "source": []
  },
  {
   "cell_type": "code",
   "execution_count": null,
   "metadata": {},
   "outputs": [],
   "source": []
  },
  {
   "cell_type": "code",
   "execution_count": 339,
   "metadata": {},
   "outputs": [],
   "source": [
    "# Define layout and Frames\n",
    "display_frame = tkinter.LabelFrame(root)\n",
    "button_frame = tkinter.LabelFrame(root,bg='black')\n",
    "display_frame.pack()\n",
    "button_frame.pack(fill='both',expand=True)"
   ]
  },
  {
   "cell_type": "code",
   "execution_count": 340,
   "metadata": {},
   "outputs": [],
   "source": [
    "#Defining the layout for Display frame\n",
    "display= tkinter.Entry(display_frame, width=120, font=display_font, bg=background, borderwidth=10, justify=LEFT)\n",
    "display.pack(padx=3,pady=4)"
   ]
  },
  {
   "cell_type": "code",
   "execution_count": 341,
   "metadata": {},
   "outputs": [],
   "source": [
    "#1 Defining first set of buttons- x,y,z gates\n",
    "x_gate = tkinter.Button(button_frame, font=button_font, bg=buttons, text='X', command=lambda:[display_gate('x'), circuit.x(0)])\n",
    "y_gate = tkinter.Button(button_frame, font=button_font, bg=buttons, text='Y', command=lambda:[display_gate('y'), circuit.y(0)])\n",
    "z_gate = tkinter.Button(button_frame, font=button_font, bg=buttons, text='Z', command=lambda:[display_gate('z'), circuit.z(0)])\n",
    "\n",
    "x_gate.grid(row=0, column=0,ipadx=45, pady=1)\n",
    "y_gate.grid(row=0, column=1,ipadx=45, pady=1)\n",
    "z_gate.grid(row=0, column=2,ipadx=53, pady=1, sticky='E')"
   ]
  },
  {
   "cell_type": "code",
   "execution_count": 342,
   "metadata": {},
   "outputs": [],
   "source": [
    "#2 Defining second set of buttons- Rx, Rx, Rz\n",
    "Rx_gate = tkinter.Button(button_frame, font=button_font, bg=buttons, text='RX', command=lambda:[display_gate('Rx'),user_input(circuit,'x')])\n",
    "Ry_gate = tkinter.Button(button_frame, font=button_font, bg=buttons, text='RY', command=lambda:[display_gate('Ry'),user_input(circuit,'y')])\n",
    "Rz_gate = tkinter.Button(button_frame, font=button_font, bg=buttons, text='RZ', command=lambda:[display_gate('Rz'),user_input(circuit,'z')])\n",
    "\n",
    "Rx_gate.grid(row=1, column=0, columnspan=1, pady=1, sticky='WE')\n",
    "Ry_gate.grid(row=1, column=1, columnspan=1, pady=1, sticky='WE')\n",
    "Rz_gate.grid(row=1, column=2, columnspan=1, pady=1, sticky='WE')"
   ]
  },
  {
   "cell_type": "code",
   "execution_count": 343,
   "metadata": {},
   "outputs": [],
   "source": [
    "#3 Defining third set of buttons - S, S dagger, Hadamard\n",
    "s_gate = tkinter.Button(button_frame, font=button_font, bg=buttons, text='S', command=lambda:[display_gate('s'), circuit.s(0)])\n",
    "sd_gate = tkinter.Button(button_frame, font=button_font, bg=buttons, text='SD', command=lambda:[display_gate('SD'),circuit.sdg(0)])\n",
    "hadamard_gate = tkinter.Button(button_frame, font=button_font, bg=buttons, text='H', command=lambda:[display_gate('H'), circuit.h(0)])\n",
    "\n",
    "s_gate.grid(row=2, column=0, columnspan=1, pady=1, sticky='WE')\n",
    "sd_gate.grid(row=2, column=1, pady=1, sticky='WE')\n",
    "hadamard_gate.grid(row=2, column=2, rowspan=2, pady=1, sticky='WENS')"
   ]
  },
  {
   "cell_type": "code",
   "execution_count": 344,
   "metadata": {},
   "outputs": [],
   "source": [
    "#4 Defining fourth set of buttons T and T dagger\n",
    "t_gate = tkinter.Button(button_frame, font=button_font, bg=buttons, text='T', command=lambda:[display_gate('t'), circuit.t(0)])\n",
    "td_gate = tkinter.Button(button_frame, font=button_font, bg=buttons, text='TD', command=lambda:[display_gate('TD'),circuit.tdg(0)])\n",
    "\n",
    "t_gate.grid(row=3, column=0, pady=1, sticky='WE')\n",
    "td_gate.grid(row=3, column=1, pady=1, sticky='WE')\n"
   ]
  },
  {
   "cell_type": "code",
   "execution_count": 345,
   "metadata": {},
   "outputs": [],
   "source": [
    "#5 Defining fifth set of buttons - Quit and Visualise\n",
    "quit = tkinter.Button(button_frame, font=button_font, bg=special_buttons, text='Quit', command=root.destroy)\n",
    "visualize = tkinter.Button(button_frame, font=button_font, bg=special_buttons, text='Visualize', command=lambda:visualize_transition(circuit))\n",
    "\n",
    "quit.grid(row=4, column=0, columnspan=1, pady=1, sticky='WE', ipadx=5)\n",
    "visualize.grid(row=4, column=2, pady=1, sticky='WE', ipadx=8)\n"
   ]
  },
  {
   "cell_type": "code",
   "execution_count": 346,
   "metadata": {},
   "outputs": [],
   "source": [
    "#6 Defining sixth set of buttons - About and Clear\n",
    "about_button = tkinter.Button(button_frame, font=button_font, bg=special_buttons, text='About', command=about)\n",
    "clear_button = tkinter.Button(button_frame, font=button_font, bg=special_buttons, text='Clear', command=lambda:clear(circuit))\n",
    "\n",
    "about_button.grid(row=5, column=0, columnspan=3, sticky='WE')\n",
    "clear_button.grid(row=6, column=0, columnspan=3, sticky='WE')\n"
   ]
  },
  {
   "cell_type": "code",
   "execution_count": null,
   "metadata": {},
   "outputs": [],
   "source": [
    "#final run\n",
    "root.mainloop()"
   ]
  },
  {
   "cell_type": "code",
   "execution_count": null,
   "metadata": {},
   "outputs": [],
   "source": []
  },
  {
   "cell_type": "code",
   "execution_count": null,
   "metadata": {},
   "outputs": [],
   "source": []
  },
  {
   "cell_type": "code",
   "execution_count": null,
   "metadata": {},
   "outputs": [],
   "source": [
    "\n"
   ]
  }
 ],
 "metadata": {
  "interpreter": {
   "hash": "afb734500600fd355917ca529030176ea0ca205570884b88f2f6f7d791fd3fbe"
  },
  "kernelspec": {
   "display_name": "Python 3.10.4 64-bit",
   "language": "python",
   "name": "python3"
  },
  "language_info": {
   "codemirror_mode": {
    "name": "ipython",
    "version": 3
   },
   "file_extension": ".py",
   "mimetype": "text/x-python",
   "name": "python",
   "nbconvert_exporter": "python",
   "pygments_lexer": "ipython3",
   "version": "3.10.4"
  },
  "orig_nbformat": 4
 },
 "nbformat": 4,
 "nbformat_minor": 2
}
