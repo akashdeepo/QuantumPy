{
 "cells": [
  {
   "cell_type": "code",
   "execution_count": 505,
   "metadata": {},
   "outputs": [],
   "source": [
    "# Visualize Quantum gates on Bloch's Sphere\n",
    "#example the X-gate represents the Pauli-X matrix X=[[0,1],[1,0]]"
   ]
  },
  {
   "cell_type": "code",
   "execution_count": 506,
   "metadata": {},
   "outputs": [],
   "source": [
    "#install qiskit- new virtual environment may be needed\n",
    "#pip install qiskit"
   ]
  },
  {
   "cell_type": "code",
   "execution_count": 507,
   "metadata": {},
   "outputs": [],
   "source": [
    "#import libraries\n",
    "import tkinter\n",
    "from tkinter import LEFT, END, DISABLED, NORMAL\n",
    "from tkinter import *\n",
    "import warnings\n",
    "import numpy as np\n",
    "import qiskit\n",
    "from qiskit import QuantumCircuit\n",
    "from qiskit.visualization import visualize_transition"
   ]
  },
  {
   "cell_type": "code",
   "execution_count": 508,
   "metadata": {},
   "outputs": [
    {
     "data": {
      "text/plain": [
       "''"
      ]
     },
     "execution_count": 508,
     "metadata": {},
     "output_type": "execute_result"
    }
   ],
   "source": [
    "#define the UI window\n",
    "root =tkinter.Tk()\n",
    "root.title('QuantumPy')\n",
    "\n",
    "#set the icon\n",
    "#root.iconbitmap(default='Q.ico')\n",
    "root.geometry('398x425')\n",
    "#blocking the resize\n",
    "root.resizable(0,0)\n",
    "\n"
   ]
  },
  {
   "cell_type": "code",
   "execution_count": 509,
   "metadata": {},
   "outputs": [],
   "source": [
    "#define colors and styling\n",
    "background = '#d43410'\n",
    "buttons = '#FFFFFF'\n",
    "special_buttons = '#d43415'\n",
    "button_font = ('Times New Roman',18)\n",
    "display_font = ('Arial',32)"
   ]
  },
  {
   "cell_type": "code",
   "execution_count": 510,
   "metadata": {},
   "outputs": [],
   "source": [
    "# Initialise the Quantum Circuit\n",
    "# Note we cannot visualise measurments in the app--The state vector collapses into one of the basis vectors\n",
    "def initialize_circuit():\n",
    "    \"\"\"\n",
    "    Initializes the Quantum Circuit\n",
    "    \"\"\"\n",
    "    global circuit \n",
    "    circuit = QuantumCircuit(1)\n",
    "\n",
    "initialize_circuit()\n",
    "theta=0"
   ]
  },
  {
   "cell_type": "code",
   "execution_count": 511,
   "metadata": {},
   "outputs": [],
   "source": [
    "# Define Functions\n",
    "def display_gate(gate_input):\n",
    "    \"\"\"\n",
    "    Adds a gate notation to track operations in the display\n",
    "    Max # of operations = 10\n",
    "    Disables all buttons \n",
    "    \"\"\"\n",
    "    #Insert the defined gate\n",
    "    display.insert(END,gate_input)\n",
    "\n",
    "    #Check if # has reached 10 and disable\n",
    "    input_gates = display.get()\n",
    "    num_gates_pressed = len(input_gates)\n",
    "    list_input_gates = list(input_gates)\n",
    "    search_word=['R','D']\n",
    "    count_double_valued_gates = [list_input_gates.count(i) for i in search_word]\n",
    "    num_gates_pressed = sum(count_double_valued_gates)\n",
    "    if num_gates_pressed==10:\n",
    "        gates = [x_gate, y_gate, z_gate, Rx_gate, Ry_gate, Rz_gate, s_gate, sd_gate, t_gate, td_gate, hadamard_gate]\n",
    "        for gate in gates:\n",
    "            gate.config(state=DISABLED)"
   ]
  },
  {
   "cell_type": "code",
   "execution_count": 512,
   "metadata": {},
   "outputs": [],
   "source": [
    "#defining 'about' section\n",
    "def about():\n",
    "    \"\"\"\n",
    "    Display project info and button details\n",
    "    \"\"\"\n",
    "    info = tkinter.Tk()\n",
    "    info.title('About')\n",
    "    info.geometry('700x800')\n",
    "    info.resizable(0,0)\n",
    "\n",
    "    text = tkinter.Text(info, height=20, width=20)\n",
    "\n",
    "    # Creating the label\n",
    "    label = tkinter.Label(info, text= \"About Quantum Py\")\n",
    "    label.config(font =(\"Times\", 14))\n",
    "\n",
    "    text_to_display = \"\"\"\n",
    "    About: Visualizing effect of different Quantum Gates \n",
    "           for single Qubit Rotation on Bloch Sphere\n",
    "\n",
    "    Project by: Akash Deep\n",
    "    Keywords: Python, Tkinter, Qiskit\n",
    "    \n",
    "    Info about the gate buttons and associated Qiskit commands:\n",
    "\n",
    "    X  = flips the state of qubit-------------------------------- circuit.x()\n",
    "    Y  = rotates the state vector about Y-axis------------------- circuit.y()\n",
    "    Z  = flips the phase by PI radians--------------------------- circuit.z()\n",
    "    Rx = parameterized rotation about the X axis----------------- circuit.rx()\n",
    "    Ry = parameterized rotation about the Y axis----------------- circuit.ry()\n",
    "    Rz = parameterized rotation about the 2 axis----------------- circuit.rz()\n",
    "    S  = rotates the state vector about 2 axis by PI/2 radians--- circuit.s()\n",
    "    I  = rotates the state vector about 2 axis by PI/4 radians--- circuit.t()\n",
    "    Sd = rotates the state vector about 2 axis by -PI/2 radians-- circuit.sdg()\n",
    "    Td = rotates the state vector about 2 axis by -PI/4 radians-- circuit.tdg()\n",
    "    H  = creates the state of superposition---------------------- circuit.h()\n",
    "    \n",
    "    For Rx, Ry and Rz, \n",
    "    theta (rotation angle) allowed range in the app is [-2*PI, 2*PI]\n",
    "    \n",
    "    In case of a Visualization Error, the app closes automatically. \n",
    "    This indicates that vigualization of your circuit is not possible,\n",
    "    \n",
    "    Note: At a time, only ten operations can be visualized.\n",
    "   \n",
    "   \"\"\"\n",
    "\n",
    "\n",
    "    label.pack()\n",
    "    text.pack(fill='both',expand=True)\n",
    "\n",
    "    #inserting text\n",
    "    text.insert(END,text_to_display)\n",
    "\n",
    "    \n"
   ]
  },
  {
   "cell_type": "code",
   "execution_count": null,
   "metadata": {},
   "outputs": [],
   "source": []
  },
  {
   "cell_type": "code",
   "execution_count": null,
   "metadata": {},
   "outputs": [],
   "source": []
  },
  {
   "cell_type": "code",
   "execution_count": 513,
   "metadata": {},
   "outputs": [],
   "source": [
    "# Define layout and Frames\n",
    "display_frame = tkinter.LabelFrame(root)\n",
    "button_frame = tkinter.LabelFrame(root,bg='black')\n",
    "display_frame.pack()\n",
    "button_frame.pack(fill='both',expand=True)"
   ]
  },
  {
   "cell_type": "code",
   "execution_count": 514,
   "metadata": {},
   "outputs": [],
   "source": [
    "#Defining the layout for Display frame\n",
    "display= tkinter.Entry(display_frame, width=120, font=display_font, bg=background, borderwidth=10, justify=LEFT)\n",
    "display.pack(padx=3,pady=4)"
   ]
  },
  {
   "cell_type": "code",
   "execution_count": 515,
   "metadata": {},
   "outputs": [],
   "source": [
    "#1 Defining first set of buttons\n",
    "x_gate = tkinter.Button(button_frame, font=button_font, bg=buttons, text='X')\n",
    "y_gate = tkinter.Button(button_frame, font=button_font, bg=buttons, text='Y')\n",
    "z_gate = tkinter.Button(button_frame, font=button_font, bg=buttons, text='Z')\n",
    "\n",
    "x_gate.grid(row=0, column=0,ipadx=45, pady=1)\n",
    "y_gate.grid(row=0, column=1,ipadx=45, pady=1)\n",
    "z_gate.grid(row=0, column=2,ipadx=53, pady=1, sticky='E')"
   ]
  },
  {
   "cell_type": "code",
   "execution_count": 516,
   "metadata": {},
   "outputs": [],
   "source": [
    "#2 Defining second set of buttons\n",
    "Rx_gate = tkinter.Button(button_frame, font=button_font, bg=buttons, text='RX', command=lambda:[display_gate('Rx'),user_input(circuit,'x')])\n",
    "Ry_gate = tkinter.Button(button_frame, font=button_font, bg=buttons, text='RY', command=lambda:[display_gate('Ry'),user_input(circuit,'y')])\n",
    "Rz_gate = tkinter.Button(button_frame, font=button_font, bg=buttons, text='RZ', command=lambda:[display_gate('Rz'),user_input(circuit,'z')])\n",
    "\n",
    "Rx_gate.grid(row=1, column=0, columnspan=1, pady=1, sticky='WE')\n",
    "Ry_gate.grid(row=1, column=1, columnspan=1, pady=1, sticky='WE')\n",
    "Rz_gate.grid(row=1, column=2, columnspan=1, pady=1, sticky='WE')"
   ]
  },
  {
   "cell_type": "code",
   "execution_count": 517,
   "metadata": {},
   "outputs": [],
   "source": [
    "#3 Defining third set of buttons\n",
    "s_gate = tkinter.Button(button_frame, font=button_font, bg=buttons, text='S', command=lambda:[display_gate('s'), circuit.s(0)])\n",
    "sd_gate = tkinter.Button(button_frame, font=button_font, bg=buttons, text='SD', command=lambda:[display_gate('SD'),circuit.sdg(0)])\n",
    "hadamard_gate = tkinter.Button(button_frame, font=button_font, bg=buttons, text='H', command=lambda:[display_gate('H'), circuit.h(0)])\n",
    "\n",
    "s_gate.grid(row=2, column=0, columnspan=1, pady=1, sticky='WE')\n",
    "sd_gate.grid(row=2, column=1, pady=1, sticky='WE')\n",
    "hadamard_gate.grid(row=2, column=2, rowspan=2, pady=1, sticky='WENS')"
   ]
  },
  {
   "cell_type": "code",
   "execution_count": 518,
   "metadata": {},
   "outputs": [],
   "source": [
    "#4 Defining fourth set of buttons\n",
    "t_gate = tkinter.Button(button_frame, font=button_font, bg=buttons, text='T', command=lambda:[display_gate('t'), circuit.t(0)])\n",
    "td_gate = tkinter.Button(button_frame, font=button_font, bg=buttons, text='TD', command=lambda:[display_gate('TD'),circuit.tdg(0)])\n",
    "\n",
    "t_gate.grid(row=3, column=0, pady=1, sticky='WE')\n",
    "td_gate.grid(row=3, column=1, pady=1, sticky='WE')\n"
   ]
  },
  {
   "cell_type": "code",
   "execution_count": 519,
   "metadata": {},
   "outputs": [],
   "source": [
    "#5 Defining fifth set of buttons - Quit and Visualise\n",
    "quit = tkinter.Button(button_frame, font=button_font, bg=special_buttons, text='Quit', command=root.destroy)\n",
    "visualize = tkinter.Button(button_frame, font=button_font, bg=special_buttons, text='Visualize', command=lambda:visualize_circuit(circuit,root))\n",
    "\n",
    "quit.grid(row=4, column=0, columnspan=1, pady=1, sticky='WE', ipadx=5)\n",
    "visualize.grid(row=4, column=2, pady=1, sticky='WE', ipadx=8)\n"
   ]
  },
  {
   "cell_type": "code",
   "execution_count": 520,
   "metadata": {},
   "outputs": [],
   "source": [
    "#6 Defining sixth set of buttons - About and Clear\n",
    "about_button = tkinter.Button(button_frame, font=button_font, bg=special_buttons, text='About', command=about)\n",
    "clear_button = tkinter.Button(button_frame, font=button_font, bg=special_buttons, text='Clear', command=lambda:clear(circuit))\n",
    "\n",
    "about_button.grid(row=5, column=0, columnspan=3, sticky='WE')\n",
    "clear_button.grid(row=6, column=0, columnspan=3, sticky='WE')\n"
   ]
  },
  {
   "cell_type": "code",
   "execution_count": null,
   "metadata": {},
   "outputs": [],
   "source": []
  },
  {
   "cell_type": "code",
   "execution_count": null,
   "metadata": {},
   "outputs": [],
   "source": []
  },
  {
   "cell_type": "code",
   "execution_count": null,
   "metadata": {},
   "outputs": [],
   "source": []
  },
  {
   "cell_type": "code",
   "execution_count": 521,
   "metadata": {},
   "outputs": [
    {
     "name": "stderr",
     "output_type": "stream",
     "text": [
      "Exception in Tkinter callback\n",
      "Traceback (most recent call last):\n",
      "  File \"c:\\Users\\User\\AppData\\Local\\Programs\\Python\\Python310\\lib\\tkinter\\__init__.py\", line 1921, in __call__\n",
      "    return self.func(*args)\n",
      "  File \"C:\\Users\\User\\AppData\\Local\\Temp\\ipykernel_8568\\3861363634.py\", line 2, in <lambda>\n",
      "    Rx_gate = tkinter.Button(button_frame, font=button_font, bg=buttons, text='RX', command=lambda:[display_gate('Rx'),user_input(circuit,'x')])\n",
      "NameError: name 'user_input' is not defined\n",
      "Exception in Tkinter callback\n",
      "Traceback (most recent call last):\n",
      "  File \"c:\\Users\\User\\AppData\\Local\\Programs\\Python\\Python310\\lib\\tkinter\\__init__.py\", line 1921, in __call__\n",
      "    return self.func(*args)\n",
      "  File \"C:\\Users\\User\\AppData\\Local\\Temp\\ipykernel_8568\\3861363634.py\", line 3, in <lambda>\n",
      "    Ry_gate = tkinter.Button(button_frame, font=button_font, bg=buttons, text='RY', command=lambda:[display_gate('Ry'),user_input(circuit,'y')])\n",
      "NameError: name 'user_input' is not defined\n",
      "Exception in Tkinter callback\n",
      "Traceback (most recent call last):\n",
      "  File \"c:\\Users\\User\\AppData\\Local\\Programs\\Python\\Python310\\lib\\tkinter\\__init__.py\", line 1921, in __call__\n",
      "    return self.func(*args)\n",
      "  File \"C:\\Users\\User\\AppData\\Local\\Temp\\ipykernel_8568\\3861363634.py\", line 4, in <lambda>\n",
      "    Rz_gate = tkinter.Button(button_frame, font=button_font, bg=buttons, text='RZ', command=lambda:[display_gate('Rz'),user_input(circuit,'z')])\n",
      "NameError: name 'user_input' is not defined\n",
      "Exception in Tkinter callback\n",
      "Traceback (most recent call last):\n",
      "  File \"c:\\Users\\User\\AppData\\Local\\Programs\\Python\\Python310\\lib\\tkinter\\__init__.py\", line 1921, in __call__\n",
      "    return self.func(*args)\n",
      "  File \"C:\\Users\\User\\AppData\\Local\\Temp\\ipykernel_8568\\3861363634.py\", line 3, in <lambda>\n",
      "    Ry_gate = tkinter.Button(button_frame, font=button_font, bg=buttons, text='RY', command=lambda:[display_gate('Ry'),user_input(circuit,'y')])\n",
      "NameError: name 'user_input' is not defined\n",
      "Exception in Tkinter callback\n",
      "Traceback (most recent call last):\n",
      "  File \"c:\\Users\\User\\AppData\\Local\\Programs\\Python\\Python310\\lib\\tkinter\\__init__.py\", line 1921, in __call__\n",
      "    return self.func(*args)\n",
      "  File \"C:\\Users\\User\\AppData\\Local\\Temp\\ipykernel_8568\\2265341629.py\", line 3, in <lambda>\n",
      "    visualize = tkinter.Button(button_frame, font=button_font, bg=special_buttons, text='Visualize', command=lambda:visualize_circuit(circuit,root))\n",
      "NameError: name 'visualize_circuit' is not defined\n",
      "Exception in Tkinter callback\n",
      "Traceback (most recent call last):\n",
      "  File \"c:\\Users\\User\\AppData\\Local\\Programs\\Python\\Python310\\lib\\tkinter\\__init__.py\", line 1921, in __call__\n",
      "    return self.func(*args)\n",
      "  File \"C:\\Users\\User\\AppData\\Local\\Temp\\ipykernel_8568\\1539997560.py\", line 3, in <lambda>\n",
      "    clear_button = tkinter.Button(button_frame, font=button_font, bg=special_buttons, text='Clear', command=lambda:clear(circuit))\n",
      "NameError: name 'clear' is not defined\n"
     ]
    }
   ],
   "source": [
    "\n",
    "#final run\n",
    "root.mainloop()"
   ]
  }
 ],
 "metadata": {
  "interpreter": {
   "hash": "afb734500600fd355917ca529030176ea0ca205570884b88f2f6f7d791fd3fbe"
  },
  "kernelspec": {
   "display_name": "Python 3.10.4 64-bit",
   "language": "python",
   "name": "python3"
  },
  "language_info": {
   "codemirror_mode": {
    "name": "ipython",
    "version": 3
   },
   "file_extension": ".py",
   "mimetype": "text/x-python",
   "name": "python",
   "nbconvert_exporter": "python",
   "pygments_lexer": "ipython3",
   "version": "3.10.4"
  },
  "orig_nbformat": 4
 },
 "nbformat": 4,
 "nbformat_minor": 2
}
